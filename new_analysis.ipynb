{
 "cells": [
  {
   "cell_type": "markdown",
   "id": "9fad0cc0",
   "metadata": {},
   "source": [
    "# Data Analysis Project\n",
    "\n",
    "This notebook provides a structured approach to data analysis including:\n",
    "- Data loading and preprocessing\n",
    "- Exploratory data analysis\n",
    "- Data visualization\n",
    "- Statistical analysis\n",
    "- Results and insights"
   ]
  },
  {
   "cell_type": "code",
   "execution_count": null,
   "id": "c23cc1d0",
   "metadata": {},
   "outputs": [],
   "source": [
    "# Import required libraries\n",
    "import pandas as pd\n",
    "import numpy as np\n",
    "import matplotlib.pyplot as plt\n",
    "import seaborn as sns\n",
    "from datetime import datetime, timedelta\n",
    "import warnings\n",
    "warnings.filterwarnings('ignore')\n",
    "\n",
    "# Set up plotting style\n",
    "plt.style.use('default')\n",
    "sns.set_palette(\"husl\")\n",
    "\n",
    "print(\"Libraries imported successfully!\")\n",
    "print(f\"Pandas version: {pd.__version__}\")\n",
    "print(f\"NumPy version: {np.__version__}\")"
   ]
  },
  {
   "cell_type": "markdown",
   "id": "8522e6a5",
   "metadata": {},
   "source": [
    "## Data Loading and Preparation\n",
    "\n",
    "Load your dataset here or generate sample data for analysis."
   ]
  },
  {
   "cell_type": "code",
   "execution_count": null,
   "id": "97b9cec7",
   "metadata": {},
   "outputs": [],
   "source": [
    "# Load or create your dataset here\n",
    "# Example: df = pd.read_csv('your_data.csv')\n",
    "\n",
    "# For demonstration, creating sample data\n",
    "np.random.seed(42)\n",
    "n_samples = 1000\n",
    "\n",
    "# Create sample dataset\n",
    "data = {\n",
    "    'date': pd.date_range('2024-01-01', periods=n_samples, freq='D'),\n",
    "    'value': np.random.normal(100, 15, n_samples),\n",
    "    'category': np.random.choice(['A', 'B', 'C', 'D'], n_samples),\n",
    "    'metric': np.random.exponential(50, n_samples)\n",
    "}\n",
    "\n",
    "df = pd.DataFrame(data)\n",
    "print(f\"Dataset created with {len(df)} rows and {len(df.columns)} columns\")\n",
    "print(\"\\nFirst few rows:\")\n",
    "df.head()"
   ]
  },
  {
   "cell_type": "markdown",
   "id": "774f68cd",
   "metadata": {},
   "source": [
    "## Exploratory Data Analysis\n",
    "\n",
    "Examine the structure and characteristics of the data."
   ]
  },
  {
   "cell_type": "code",
   "execution_count": null,
   "id": "13d6aa19",
   "metadata": {},
   "outputs": [],
   "source": [
    "# Data overview\n",
    "print(\"Dataset Info:\")\n",
    "print(df.info())\n",
    "print(\"\\nDataset Description:\")\n",
    "print(df.describe())\n",
    "print(\"\\nMissing Values:\")\n",
    "print(df.isnull().sum())"
   ]
  },
  {
   "cell_type": "markdown",
   "id": "0ad15cf4",
   "metadata": {},
   "source": [
    "## Data Visualization\n",
    "\n",
    "Create visualizations to understand patterns and relationships in the data."
   ]
  },
  {
   "cell_type": "code",
   "execution_count": null,
   "id": "97cac7a9",
   "metadata": {},
   "outputs": [],
   "source": [
    "# Create visualizations\n",
    "fig, axes = plt.subplots(2, 2, figsize=(15, 12))\n",
    "\n",
    "# Time series plot\n",
    "axes[0, 0].plot(df['date'], df['value'])\n",
    "axes[0, 0].set_title('Value Over Time')\n",
    "axes[0, 0].set_xlabel('Date')\n",
    "axes[0, 0].set_ylabel('Value')\n",
    "axes[0, 0].tick_params(axis='x', rotation=45)\n",
    "\n",
    "# Category distribution\n",
    "df['category'].value_counts().plot(kind='bar', ax=axes[0, 1])\n",
    "axes[0, 1].set_title('Category Distribution')\n",
    "axes[0, 1].set_xlabel('Category')\n",
    "axes[0, 1].set_ylabel('Count')\n",
    "\n",
    "# Value distribution\n",
    "axes[1, 0].hist(df['value'], bins=30, alpha=0.7)\n",
    "axes[1, 0].set_title('Value Distribution')\n",
    "axes[1, 0].set_xlabel('Value')\n",
    "axes[1, 0].set_ylabel('Frequency')\n",
    "\n",
    "# Box plot by category\n",
    "df.boxplot(column='value', by='category', ax=axes[1, 1])\n",
    "axes[1, 1].set_title('Value by Category')\n",
    "axes[1, 1].set_xlabel('Category')\n",
    "axes[1, 1].set_ylabel('Value')\n",
    "\n",
    "plt.tight_layout()\n",
    "plt.show()"
   ]
  },
  {
   "cell_type": "markdown",
   "id": "8a58519a",
   "metadata": {},
   "source": [
    "## Statistical Analysis\n",
    "\n",
    "Perform statistical tests and analysis on the data."
   ]
  },
  {
   "cell_type": "code",
   "execution_count": null,
   "id": "bd7e5b00",
   "metadata": {},
   "outputs": [],
   "source": [
    "# Statistical analysis\n",
    "print(\"Correlation Matrix:\")\n",
    "numeric_cols = df.select_dtypes(include=[np.number]).columns\n",
    "correlation_matrix = df[numeric_cols].corr()\n",
    "print(correlation_matrix)\n",
    "\n",
    "# Visualize correlation matrix\n",
    "plt.figure(figsize=(8, 6))\n",
    "sns.heatmap(correlation_matrix, annot=True, cmap='coolwarm', center=0)\n",
    "plt.title('Correlation Matrix')\n",
    "plt.show()\n",
    "\n",
    "# Group statistics\n",
    "print(\"\\nStatistics by Category:\")\n",
    "print(df.groupby('category')['value'].agg(['mean', 'std', 'min', 'max']))"
   ]
  },
  {
   "cell_type": "markdown",
   "id": "bd23e052",
   "metadata": {},
   "source": [
    "## Results and Insights\n",
    "\n",
    "Summarize key findings and insights from the analysis."
   ]
  },
  {
   "cell_type": "code",
   "execution_count": null,
   "id": "4cfb1a0a",
   "metadata": {},
   "outputs": [],
   "source": [
    "# Summary and insights\n",
    "print(\"Key Findings:\")\n",
    "print(f\"• Total records analyzed: {len(df):,}\")\n",
    "print(f\"• Date range: {df['date'].min()} to {df['date'].max()}\")\n",
    "print(f\"• Average value: {df['value'].mean():.2f}\")\n",
    "print(f\"• Value standard deviation: {df['value'].std():.2f}\")\n",
    "print(f\"• Number of categories: {df['category'].nunique()}\")\n",
    "print(f\"• Most common category: {df['category'].mode()[0]}\")\n",
    "\n",
    "# Additional analysis can be added here\n",
    "print(\"\\nAnalysis complete!\")"
   ]
  }
 ],
 "metadata": {
  "language_info": {
   "name": "python"
  }
 },
 "nbformat": 4,
 "nbformat_minor": 5
}
